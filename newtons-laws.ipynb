{
 "cells": [
  {
   "cell_type": "code",
   "execution_count": 125,
   "metadata": {},
   "outputs": [],
   "source": [
    "import numpy as np\n",
    "import matplotlib.pyplot as plt\n",
    "import pandas as pd"
   ]
  },
  {
   "cell_type": "raw",
   "metadata": {},
   "source": [
    "g acceleration due to gravity \n",
    "\n",
    "M_h weight along with the pulley end\n",
    "\n",
    "M_c mass of the cart \n",
    "\n",
    "M_a Additional mass \n",
    "\n",
    "M_m Mysterious mass \n"
   ]
  },
  {
   "cell_type": "markdown",
   "metadata": {},
   "source": [
    "## Trial I"
   ]
  },
  {
   "cell_type": "code",
   "execution_count": 126,
   "metadata": {},
   "outputs": [],
   "source": [
    "def d(t, g, M_c, M_a, M_h, M_m):\n",
    "    return 0.1 + 0.5*M_h*g/(M_c + M_a + M_m )*t**2"
   ]
  },
  {
   "cell_type": "code",
   "execution_count": 127,
   "metadata": {},
   "outputs": [],
   "source": [
    "g = 9.81      # m/s^2\n",
    "\n",
    "M_c1 = 0.475   # kg\n",
    "\n",
    "M_a1 = 0     # kg For trial one additional mass is zero  \n",
    "\n",
    "M_m1  = 0    # kg for trial one mystry mass is zero\n",
    "\n",
    "M_h1 = 50.0/1000  # Force1 = 50.0*9.81/1000  Newton   \n"
   ]
  },
  {
   "cell_type": "code",
   "execution_count": 128,
   "metadata": {},
   "outputs": [],
   "source": [
    "t1 = np.arange(0, 20.5, 0.5)"
   ]
  },
  {
   "cell_type": "code",
   "execution_count": 129,
   "metadata": {},
   "outputs": [
    {
     "data": {
      "text/plain": [
       "(41,)"
      ]
     },
     "execution_count": 129,
     "metadata": {},
     "output_type": "execute_result"
    }
   ],
   "source": [
    "np.shape(t1)"
   ]
  },
  {
   "cell_type": "code",
   "execution_count": 130,
   "metadata": {},
   "outputs": [
    {
     "data": {
      "text/plain": [
       "0.9057664493157657"
      ]
     },
     "execution_count": 130,
     "metadata": {},
     "output_type": "execute_result"
    }
   ],
   "source": [
    "random_error = np.random.rand()\n",
    "random_error"
   ]
  },
  {
   "cell_type": "code",
   "execution_count": 131,
   "metadata": {},
   "outputs": [],
   "source": [
    "def dis_noise(distance, prm):\n",
    "    d1 = []\n",
    "    i = 0\n",
    "    for data in distance:\n",
    "        d_e = data + prm*data*np.random.rand()\n",
    "        d1.append(d_e)\n",
    "        i += 1\n",
    "    return d1"
   ]
  },
  {
   "cell_type": "code",
   "execution_count": 132,
   "metadata": {},
   "outputs": [
    {
     "name": "stdout",
     "output_type": "stream",
     "text": [
      "[0.10444990045351725, 0.24720699251965195, 0.6872006895696415, 1.336734978769117]\n"
     ]
    },
    {
     "data": {
      "image/png": "[encoded data removed]",
      "text/plain": [
       "<Figure size 432x288 with 1 Axes>"
      ]
     },
     "metadata": {
      "needs_background": "light"
     },
     "output_type": "display_data"
    },
    {
     "data": {
      "image/png": "[encoded data removed]",
      "text/plain": [
       "<Figure size 432x288 with 1 Axes>"
      ]
     },
     "metadata": {
      "needs_background": "light"
     },
     "output_type": "display_data"
    }
   ],
   "source": [
    "\n",
    "g = 9.81      # m/s^2\n",
    "\n",
    "M_c1 = 0.475   # kg\n",
    "\n",
    "M_a1 = 0     # kg For trial one additional mass is zero  \n",
    "\n",
    "M_m1  = 0    # kg for trial one mystry mass is zero\n",
    "\n",
    "M_h1 = 50.0/1000  # kg  # Force1 = 50.0*9.81/1000  Newton    \n",
    "\n",
    "\n",
    "distance = d(t1, g, M_c1, M_a1, M_h1, M_m1)\n",
    "distance[0:5]\n",
    "\n",
    "d1 = dis_noise(distance, 0.12)\n",
    "print(d1[0:4])\n",
    "\n",
    "plt.scatter(t1, d1)\n",
    "plt.xlabel('t in s')\n",
    "plt.ylabel('d in m')\n",
    "plt.show()\n",
    "\n",
    "\n",
    "t2 = t1**2\n",
    "\n",
    "plt.scatter(t2, d1)\n",
    "plt.show()"
   ]
  },
  {
   "cell_type": "markdown",
   "metadata": {},
   "source": [
    "## Trial2"
   ]
  },
  {
   "cell_type": "code",
   "execution_count": 133,
   "metadata": {},
   "outputs": [
    {
     "name": "stdout",
     "output_type": "stream",
     "text": [
      "[0.10723454830093224, 0.24847259471109212, 0.6141038902424859, 1.2690880736097367]\n"
     ]
    },
    {
     "data": {
      "image/png": "[encoded data removed]",
      "text/plain": [
       "<Figure size 432x288 with 1 Axes>"
      ]
     },
     "metadata": {
      "needs_background": "light"
     },
     "output_type": "display_data"
    },
    {
     "data": {
      "image/png": "[encoded data removed]",
      "text/plain": [
       "<Figure size 432x288 with 1 Axes>"
      ]
     },
     "metadata": {
      "needs_background": "light"
     },
     "output_type": "display_data"
    }
   ],
   "source": [
    "M_c2 = 0.475   # kg\n",
    "\n",
    "M_a2 = 0.5     # kg For trial one additional mass is zero  \n",
    "\n",
    "M_m2  = 0    # kg for trial one mystry mass is zero\n",
    "\n",
    "M_h2 = 100.0/1000  # kg    # Force2 = 100.0*9.81/1000  Newton     \n",
    "\n",
    "\n",
    "distance2 = d(t1, g, M_c2, M_a2, M_h2, M_m2)\n",
    "distance2[0:5]\n",
    "\n",
    "d2 = dis_noise(distance2, 0.12)\n",
    "print(d2[0:4])\n",
    "\n",
    "plt.scatter(t1, d2)\n",
    "plt.xlabel('t in s')\n",
    "plt.ylabel('d in m')\n",
    "plt.show()\n",
    "\n",
    "\n",
    "t2 = t1**2\n",
    "\n",
    "plt.scatter(t2, d2)\n",
    "plt.show()"
   ]
  },
  {
   "cell_type": "markdown",
   "metadata": {},
   "source": [
    "## Trial 3"
   ]
  },
  {
   "cell_type": "code",
   "execution_count": 134,
   "metadata": {},
   "outputs": [
    {
     "name": "stdout",
     "output_type": "stream",
     "text": [
      "[0.11181292508914085, 0.25413548204859565, 0.744942476394159, 1.4227571951148947]\n"
     ]
    },
    {
     "data": {
      "image/png": "[encoded data removed]",
      "text/plain": [
       "<Figure size 432x288 with 1 Axes>"
      ]
     },
     "metadata": {
      "needs_background": "light"
     },
     "output_type": "display_data"
    },
    {
     "data": {
      "image/png": "[encoded data removed]",
      "text/plain": [
       "<Figure size 432x288 with 1 Axes>"
      ]
     },
     "metadata": {
      "needs_background": "light"
     },
     "output_type": "display_data"
    }
   ],
   "source": [
    "M_c3 = 0.475   # kg\n",
    "\n",
    "M_a3 = 0.5     # kg For trial one additional mass is zero  \n",
    "\n",
    "M_m3  = 0.3    # kg for trial one mystry mass is zero\n",
    "\n",
    "M_h3 = 150.0/1000  # kg # Force3 = 150.0*9.81/1000  Newton     \n",
    "\n",
    "\n",
    "distance3 = d(t1, g, M_c3, M_a3, M_h3, M_m3)\n",
    "distance3[0:5]\n",
    "\n",
    "d3 = dis_noise(distance3, 0.12)\n",
    "print(d3[0:4])\n",
    "\n",
    "\n",
    "plt.scatter(t1, d3)\n",
    "plt.xlabel('t in s')\n",
    "plt.ylabel('d in m')\n",
    "plt.show()\n",
    "\n",
    "t2 = t1**2\n",
    "\n",
    "plt.scatter(t2, d3)\n",
    "plt.show()"
   ]
  },
  {
   "cell_type": "code",
   "execution_count": 145,
   "metadata": {},
   "outputs": [
    {
     "data": {
      "text/plain": [
       "41"
      ]
     },
     "execution_count": 145,
     "metadata": {},
     "output_type": "execute_result"
    }
   ],
   "source": [
    "len(t2)"
   ]
  },
  {
   "cell_type": "markdown",
   "metadata": {},
   "source": [
    "### Force vs Acceleration"
   ]
  },
  {
   "cell_type": "raw",
   "metadata": {},
   "source": [
    "For force vs acceleration we will use starting from 50 g weight along the pulley upto 630 g weight in steps of 20 g"
   ]
  },
  {
   "cell_type": "code",
   "execution_count": 149,
   "metadata": {},
   "outputs": [
    {
     "data": {
      "text/plain": [
       "(array([ 50,  70,  90, 110, 130, 150, 170, 190, 210, 230, 250, 270, 290,\n",
       "        310, 330, 350, 370, 390, 410, 430, 450, 470, 490, 510, 530, 550,\n",
       "        570, 590, 610, 630, 650, 670, 690, 710, 730, 750, 770, 790, 810,\n",
       "        830, 850]), 41)"
      ]
     },
     "execution_count": 149,
     "metadata": {},
     "output_type": "execute_result"
    }
   ],
   "source": [
    "force = np.arange(50,870,20)\n",
    "force, len(force)"
   ]
  },
  {
   "cell_type": "raw",
   "metadata": {},
   "source": [
    "Consider the acceleration collected for those 24 data points keeping the mass for the trial3 we would obtain the following acceleration, a = (M_h*9.81/1000.0)/(M_c + M_a + M_h + M_m)  "
   ]
  },
  {
   "cell_type": "code",
   "execution_count": 150,
   "metadata": {},
   "outputs": [],
   "source": [
    "def a(g, M_c4, M_a4, M_h4, M_m4):\n",
    "    return (M_h4*g)/(M_c4 + M_a4 + M_m4)   "
   ]
  },
  {
   "cell_type": "raw",
   "metadata": {},
   "source": [
    "M_c4 = 0.475   # kg\n",
    "\n",
    "M_a4 = 0.5     # kg For trial one additional mass is zero  \n",
    "\n",
    "M_m4  = 0.3    # kg for trial one mystry mass is zero\n",
    "\n",
    "M_h4 = 50.0/1000  # kg # Force3 = 150.0*9.81/1000  Newton     \n"
   ]
  },
  {
   "cell_type": "code",
   "execution_count": 151,
   "metadata": {},
   "outputs": [],
   "source": [
    "g = 9.81\n",
    "M_c4 = 0.475\n",
    "M_a4 = 0.5\n",
    "M_m4 = 0.3 \n",
    "\n",
    "M_h4 = 50.0/1000.0"
   ]
  },
  {
   "cell_type": "code",
   "execution_count": 152,
   "metadata": {},
   "outputs": [
    {
     "data": {
      "text/plain": [
       "0.38470588235294123"
      ]
     },
     "execution_count": 152,
     "metadata": {},
     "output_type": "execute_result"
    }
   ],
   "source": [
    "a(g, M_c4, M_a4, M_h4, M_m4)"
   ]
  },
  {
   "cell_type": "code",
   "execution_count": 153,
   "metadata": {},
   "outputs": [],
   "source": [
    "acce = []\n",
    "\n",
    "for wgt in force:\n",
    "    acce.append(a(g, M_c4, M_a4, wgt/1000.0, M_m4) + 0.08*a(g, M_c4, M_a4, wgt/1000.0, M_m4)*np.random.rand())"
   ]
  },
  {
   "cell_type": "code",
   "execution_count": 154,
   "metadata": {},
   "outputs": [
    {
     "data": {
      "text/plain": [
       "[0.39336916581265075,\n",
       " 0.5583903351130801,\n",
       " 0.7285012487204264,\n",
       " 0.8768356302643017,\n",
       " 1.0444418170807792]"
      ]
     },
     "execution_count": 154,
     "metadata": {},
     "output_type": "execute_result"
    }
   ],
   "source": [
    "acce[0:5]"
   ]
  },
  {
   "cell_type": "code",
   "execution_count": 155,
   "metadata": {},
   "outputs": [],
   "source": [
    "force1 = force*9.81/1000.0 "
   ]
  },
  {
   "cell_type": "code",
   "execution_count": 156,
   "metadata": {},
   "outputs": [
    {
     "data": {
      "image/png": "[encoded data removed]",
      "text/plain": [
       "<Figure size 432x288 with 1 Axes>"
      ]
     },
     "metadata": {
      "needs_background": "light"
     },
     "output_type": "display_data"
    }
   ],
   "source": [
    "plt.scatter(force1, acce)\n",
    "plt.xlabel('Force in Newton')\n",
    "plt.ylabel('a in m/s^2')\n",
    "plt.show()"
   ]
  },
  {
   "cell_type": "code",
   "execution_count": null,
   "metadata": {},
   "outputs": [],
   "source": []
  },
  {
   "cell_type": "code",
   "execution_count": null,
   "metadata": {},
   "outputs": [],
   "source": []
  },
  {
   "cell_type": "code",
   "execution_count": null,
   "metadata": {},
   "outputs": [],
   "source": []
  },
  {
   "cell_type": "code",
   "execution_count": 157,
   "metadata": {},
   "outputs": [],
   "source": [
    "d_t = pd.DataFrame( {\"time-s\":t1,\"dis-trial1\":d1,\"dis-trial2\":d2,\"dis-trial3\":d3,\"Force-N\":force1,\"a-m-per-s^2\":acce } ) "
   ]
  },
  {
   "cell_type": "code",
   "execution_count": 158,
   "metadata": {},
   "outputs": [
    {
     "data": {
      "text/html": [
       "<div>\n",
       "<style scoped>\n",
       "    .dataframe tbody tr th:only-of-type {\n",
       "        vertical-align: middle;\n",
       "    }\n",
       "\n",
       "    .dataframe tbody tr th {\n",
       "        vertical-align: top;\n",
       "    }\n",
       "\n",
       "    .dataframe thead th {\n",
       "        text-align: right;\n",
       "    }\n",
       "</style>\n",
       "<table border=\"1\" class=\"dataframe\">\n",
       "  <thead>\n",
       "    <tr style=\"text-align: right;\">\n",
       "      <th></th>\n",
       "      <th>time-s</th>\n",
       "      <th>dis-trial1</th>\n",
       "      <th>dis-trial2</th>\n",
       "      <th>dis-trial3</th>\n",
       "      <th>Force-N</th>\n",
       "      <th>a-m-per-s^2</th>\n",
       "    </tr>\n",
       "  </thead>\n",
       "  <tbody>\n",
       "    <tr>\n",
       "      <th>0</th>\n",
       "      <td>0.0</td>\n",
       "      <td>0.104450</td>\n",
       "      <td>0.107235</td>\n",
       "      <td>0.111813</td>\n",
       "      <td>0.4905</td>\n",
       "      <td>0.393369</td>\n",
       "    </tr>\n",
       "    <tr>\n",
       "      <th>1</th>\n",
       "      <td>0.5</td>\n",
       "      <td>0.247207</td>\n",
       "      <td>0.248473</td>\n",
       "      <td>0.254135</td>\n",
       "      <td>0.6867</td>\n",
       "      <td>0.558390</td>\n",
       "    </tr>\n",
       "    <tr>\n",
       "      <th>2</th>\n",
       "      <td>1.0</td>\n",
       "      <td>0.687201</td>\n",
       "      <td>0.614104</td>\n",
       "      <td>0.744942</td>\n",
       "      <td>0.8829</td>\n",
       "      <td>0.728501</td>\n",
       "    </tr>\n",
       "    <tr>\n",
       "      <th>3</th>\n",
       "      <td>1.5</td>\n",
       "      <td>1.336735</td>\n",
       "      <td>1.269088</td>\n",
       "      <td>1.422757</td>\n",
       "      <td>1.0791</td>\n",
       "      <td>0.876836</td>\n",
       "    </tr>\n",
       "    <tr>\n",
       "      <th>4</th>\n",
       "      <td>2.0</td>\n",
       "      <td>2.302681</td>\n",
       "      <td>2.323644</td>\n",
       "      <td>2.531570</td>\n",
       "      <td>1.2753</td>\n",
       "      <td>1.044442</td>\n",
       "    </tr>\n",
       "  </tbody>\n",
       "</table>\n",
       "</div>"
      ],
      "text/plain": [
       "   time-s  dis-trial1  dis-trial2  dis-trial3  Force-N  a-m-per-s^2\n",
       "0     0.0    0.104450    0.107235    0.111813   0.4905     0.393369\n",
       "1     0.5    0.247207    0.248473    0.254135   0.6867     0.558390\n",
       "2     1.0    0.687201    0.614104    0.744942   0.8829     0.728501\n",
       "3     1.5    1.336735    1.269088    1.422757   1.0791     0.876836\n",
       "4     2.0    2.302681    2.323644    2.531570   1.2753     1.044442"
      ]
     },
     "execution_count": 158,
     "metadata": {},
     "output_type": "execute_result"
    }
   ],
   "source": [
    "d_t.head()"
   ]
  },
  {
   "cell_type": "code",
   "execution_count": null,
   "metadata": {},
   "outputs": [],
   "source": []
  },
  {
   "cell_type": "code",
   "execution_count": 159,
   "metadata": {},
   "outputs": [],
   "source": [
    "d_t.to_csv(\"data-expt4.csv\", header=True, index=False)"
   ]
  },
  {
   "cell_type": "code",
   "execution_count": null,
   "metadata": {},
   "outputs": [],
   "source": []
  },
  {
   "cell_type": "code",
   "execution_count": null,
   "metadata": {},
   "outputs": [],
   "source": []
  },
  {
   "cell_type": "raw",
   "metadata": {},
   "source": [
    "scatter_kws={\"s\": 80}, order=1, ci=None, truncate=True)\n",
    "fit_reg=True, color='blue'"
   ]
  },
  {
   "cell_type": "code",
   "execution_count": 29,
   "metadata": {},
   "outputs": [
    {
     "data": {
      "image/png": "[encoded data removed]",
      "text/plain": [
       "<Figure size 432x288 with 1 Axes>"
      ]
     },
     "metadata": {},
     "output_type": "display_data"
    }
   ],
   "source": [
    "import seaborn as sns; sns.set(color_codes=True)\n",
    "import warnings\n",
    "warnings.filterwarnings(\"ignore\")\n",
    "ax = sns.regplot(x=\"time_sq\", y=\"distance_m\", data=d_tsq, order=1, color='blue')"
   ]
  },
  {
   "cell_type": "raw",
   "metadata": {},
   "source": [
    "m = ols('PRICE ~ RM',bos).fit()\n",
    "print(m.summary())"
   ]
  },
  {
   "cell_type": "code",
   "execution_count": 155,
   "metadata": {},
   "outputs": [],
   "source": [
    "import statsmodels.api as sm\n",
    "from statsmodels.formula.api import ols"
   ]
  },
  {
   "cell_type": "code",
   "execution_count": 156,
   "metadata": {},
   "outputs": [
    {
     "name": "stdout",
     "output_type": "stream",
     "text": [
      "                            OLS Regression Results                            \n",
      "==============================================================================\n",
      "Dep. Variable:             distance_m   R-squared:                       1.000\n",
      "Model:                            OLS   Adj. R-squared:                  1.000\n",
      "Method:                 Least Squares   F-statistic:                 1.778e+05\n",
      "Date:                Tue, 29 Sep 2020   Prob (F-statistic):           5.68e-73\n",
      "Time:                        18:46:59   Log-Likelihood:                -24.972\n",
      "No. Observations:                  41   AIC:                             53.94\n",
      "Df Residuals:                      39   BIC:                             57.37\n",
      "Df Model:                           1                                         \n",
      "Covariance Type:            nonrobust                                         \n",
      "==============================================================================\n",
      "                 coef    std err          t      P>|t|      [0.025      0.975]\n",
      "------------------------------------------------------------------------------\n",
      "Intercept      0.0018      0.106      0.017      0.987      -0.213       0.216\n",
      "time_sq        0.2455      0.001    421.649      0.000       0.244       0.247\n",
      "==============================================================================\n",
      "Omnibus:                       18.178   Durbin-Watson:                   2.245\n",
      "Prob(Omnibus):                  0.000   Jarque-Bera (JB):               27.093\n",
      "Skew:                          -1.267   Prob(JB):                     1.31e-06\n",
      "Kurtosis:                       6.072   Cond. No.                         271.\n",
      "==============================================================================\n",
      "\n",
      "Warnings:\n",
      "[1] Standard Errors assume that the covariance matrix of the errors is correctly specified.\n"
     ]
    }
   ],
   "source": [
    "reg_fit = ols('distance_m ~ time_sq', d_tsq).fit()\n",
    "print(reg_fit.summary())"
   ]
  },
  {
   "cell_type": "code",
   "execution_count": 165,
   "metadata": {},
   "outputs": [
    {
     "ename": "AttributeError",
     "evalue": "'OLSResults' object has no attribute '_coef'",
     "output_type": "error",
     "traceback": [
      "\u001b[0;31m---------------------------------------------------------------------------\u001b[0m",
      "\u001b[0;31mAttributeError\u001b[0m                            Traceback (most recent call last)",
      "\u001b[0;32m<ipython-input-165-e0e9eae0c41b>\u001b[0m in \u001b[0;36m<module>\u001b[0;34m\u001b[0m\n\u001b[0;32m----> 1\u001b[0;31m \u001b[0mreg_fit\u001b[0m\u001b[0;34m.\u001b[0m\u001b[0m_coef\u001b[0m\u001b[0;34m\u001b[0m\u001b[0;34m\u001b[0m\u001b[0m\n\u001b[0m",
      "\u001b[0;32m/anaconda3/lib/python3.7/site-packages/statsmodels/base/wrapper.py\u001b[0m in \u001b[0;36m__getattribute__\u001b[0;34m(self, attr)\u001b[0m\n\u001b[1;32m     33\u001b[0m             \u001b[0;32mpass\u001b[0m\u001b[0;34m\u001b[0m\u001b[0;34m\u001b[0m\u001b[0m\n\u001b[1;32m     34\u001b[0m \u001b[0;34m\u001b[0m\u001b[0m\n\u001b[0;32m---> 35\u001b[0;31m         \u001b[0mobj\u001b[0m \u001b[0;34m=\u001b[0m \u001b[0mgetattr\u001b[0m\u001b[0;34m(\u001b[0m\u001b[0mresults\u001b[0m\u001b[0;34m,\u001b[0m \u001b[0mattr\u001b[0m\u001b[0;34m)\u001b[0m\u001b[0;34m\u001b[0m\u001b[0;34m\u001b[0m\u001b[0m\n\u001b[0m\u001b[1;32m     36\u001b[0m         \u001b[0mdata\u001b[0m \u001b[0;34m=\u001b[0m \u001b[0mresults\u001b[0m\u001b[0;34m.\u001b[0m\u001b[0mmodel\u001b[0m\u001b[0;34m.\u001b[0m\u001b[0mdata\u001b[0m\u001b[0;34m\u001b[0m\u001b[0;34m\u001b[0m\u001b[0m\n\u001b[1;32m     37\u001b[0m         \u001b[0mhow\u001b[0m \u001b[0;34m=\u001b[0m \u001b[0mself\u001b[0m\u001b[0;34m.\u001b[0m\u001b[0m_wrap_attrs\u001b[0m\u001b[0;34m.\u001b[0m\u001b[0mget\u001b[0m\u001b[0;34m(\u001b[0m\u001b[0mattr\u001b[0m\u001b[0;34m)\u001b[0m\u001b[0;34m\u001b[0m\u001b[0;34m\u001b[0m\u001b[0m\n",
      "\u001b[0;31mAttributeError\u001b[0m: 'OLSResults' object has no attribute '_coef'"
     ]
    }
   ],
   "source": [
    "reg_fit._coef"
   ]
  },
  {
   "cell_type": "code",
   "execution_count": null,
   "metadata": {},
   "outputs": [],
   "source": []
  },
  {
   "cell_type": "code",
   "execution_count": 142,
   "metadata": {},
   "outputs": [
    {
     "data": {
      "text/plain": [
       "method"
      ]
     },
     "execution_count": 142,
     "metadata": {},
     "output_type": "execute_result"
    }
   ],
   "source": [
    "type(reg_fit.summary)"
   ]
  },
  {
   "cell_type": "code",
   "execution_count": 157,
   "metadata": {},
   "outputs": [],
   "source": [
    "\n",
    "m = 0.2455\n",
    "\n",
    "b = 0.0018\n"
   ]
  },
  {
   "cell_type": "code",
   "execution_count": 160,
   "metadata": {},
   "outputs": [
    {
     "data": {
      "text/plain": [
       "0.491"
      ]
     },
     "execution_count": 160,
     "metadata": {},
     "output_type": "execute_result"
    }
   ],
   "source": [
    "a_fit = 2*m\n",
    "a_fit"
   ]
  },
  {
   "cell_type": "code",
   "execution_count": null,
   "metadata": {},
   "outputs": [],
   "source": []
  },
  {
   "cell_type": "code",
   "execution_count": null,
   "metadata": {},
   "outputs": [],
   "source": []
  },
  {
   "cell_type": "code",
   "execution_count": 161,
   "metadata": {},
   "outputs": [
    {
     "data": {
      "text/html": [
       "<div>\n",
       "<style scoped>\n",
       "    .dataframe tbody tr th:only-of-type {\n",
       "        vertical-align: middle;\n",
       "    }\n",
       "\n",
       "    .dataframe tbody tr th {\n",
       "        vertical-align: top;\n",
       "    }\n",
       "\n",
       "    .dataframe thead th {\n",
       "        text-align: right;\n",
       "    }\n",
       "</style>\n",
       "<table border=\"1\" class=\"dataframe\">\n",
       "  <thead>\n",
       "    <tr style=\"text-align: right;\">\n",
       "      <th></th>\n",
       "      <th>time_s</th>\n",
       "      <th>time_sq</th>\n",
       "      <th>distance_m</th>\n",
       "      <th>d_best_fit</th>\n",
       "    </tr>\n",
       "  </thead>\n",
       "  <tbody>\n",
       "    <tr>\n",
       "      <th>0</th>\n",
       "      <td>0.0</td>\n",
       "      <td>0.00</td>\n",
       "      <td>0.102890</td>\n",
       "      <td>0.001800</td>\n",
       "    </tr>\n",
       "    <tr>\n",
       "      <th>1</th>\n",
       "      <td>0.5</td>\n",
       "      <td>0.25</td>\n",
       "      <td>0.162232</td>\n",
       "      <td>0.063175</td>\n",
       "    </tr>\n",
       "    <tr>\n",
       "      <th>2</th>\n",
       "      <td>1.0</td>\n",
       "      <td>1.00</td>\n",
       "      <td>0.342269</td>\n",
       "      <td>0.247300</td>\n",
       "    </tr>\n",
       "    <tr>\n",
       "      <th>3</th>\n",
       "      <td>1.5</td>\n",
       "      <td>2.25</td>\n",
       "      <td>0.642902</td>\n",
       "      <td>0.554175</td>\n",
       "    </tr>\n",
       "    <tr>\n",
       "      <th>4</th>\n",
       "      <td>2.0</td>\n",
       "      <td>4.00</td>\n",
       "      <td>1.062601</td>\n",
       "      <td>0.983800</td>\n",
       "    </tr>\n",
       "  </tbody>\n",
       "</table>\n",
       "</div>"
      ],
      "text/plain": [
       "   time_s  time_sq  distance_m  d_best_fit\n",
       "0     0.0     0.00    0.102890    0.001800\n",
       "1     0.5     0.25    0.162232    0.063175\n",
       "2     1.0     1.00    0.342269    0.247300\n",
       "3     1.5     2.25    0.642902    0.554175\n",
       "4     2.0     4.00    1.062601    0.983800"
      ]
     },
     "execution_count": 161,
     "metadata": {},
     "output_type": "execute_result"
    }
   ],
   "source": [
    "d1 = m*d_tsq['time_sq'] + b\n",
    "d_tsq['d_best_fit'] = d1\n",
    "d_tsq.head()"
   ]
  },
  {
   "cell_type": "code",
   "execution_count": 163,
   "metadata": {},
   "outputs": [
    {
     "data": {
      "image/png": "[encoded data removed]",
      "text/plain": [
       "<Figure size 432x288 with 1 Axes>"
      ]
     },
     "metadata": {},
     "output_type": "display_data"
    }
   ],
   "source": [
    "plt.scatter(d_tsq.time_sq, d_tsq.distance_m, color='blue', marker='o', label='data')\n",
    "plt.plot(d_tsq.time_sq, d_tsq.d_best_fit, color='red', label='best-fit')\n",
    "plt.xlabel('time_sq')\n",
    "plt.ylabel('distance')\n",
    "plt.legend()\n",
    "plt.grid()\n",
    "plt.show()"
   ]
  },
  {
   "cell_type": "code",
   "execution_count": null,
   "metadata": {},
   "outputs": [],
   "source": []
  },
  {
   "cell_type": "code",
   "execution_count": null,
   "metadata": {},
   "outputs": [],
   "source": []
  },
  {
   "cell_type": "code",
   "execution_count": null,
   "metadata": {},
   "outputs": [],
   "source": []
  },
  {
   "cell_type": "code",
   "execution_count": null,
   "metadata": {},
   "outputs": [],
   "source": []
  },
  {
   "cell_type": "code",
   "execution_count": null,
   "metadata": {},
   "outputs": [],
   "source": []
  }
 ],
 "metadata": {
  "kernelspec": {
   "display_name": "Python 3",
   "language": "python",
   "name": "python3"
  },
  "language_info": {
   "codemirror_mode": {
    "name": "ipython",
    "version": 3
   },
   "file_extension": ".py",
   "mimetype": "text/x-python",
   "name": "python",
   "nbconvert_exporter": "python",
   "pygments_lexer": "ipython3",
   "version": "3.7.3"
  }
 },
 "nbformat": 4,
 "nbformat_minor": 2
}
